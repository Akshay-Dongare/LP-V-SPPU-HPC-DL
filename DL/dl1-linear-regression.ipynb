{
 "cells": [
  {
   "cell_type": "code",
   "execution_count": 15,
   "metadata": {},
   "outputs": [],
   "source": [
    "# Boston House Prediction Using Linear Regression and Deep Neural Network"
   ]
  },
  {
   "cell_type": "code",
   "execution_count": 102,
   "metadata": {},
   "outputs": [],
   "source": [
    "import tensorflow as tf"
   ]
  },
  {
   "cell_type": "code",
   "execution_count": 103,
   "metadata": {},
   "outputs": [],
   "source": [
    "(x_train , y_train) , (x_test , y_test) = tf.keras.datasets.boston_housing.load_data(test_split=0.2 , seed=42)"
   ]
  },
  {
   "cell_type": "code",
   "execution_count": 104,
   "metadata": {},
   "outputs": [],
   "source": [
    "model=tf.keras.models.Sequential([\n",
    "    tf.keras.layers.Dense(64, activation='relu', input_shape=(x_train.shape[1],)),\n",
    "    tf.keras.layers.Dense(1)\n",
    "])"
   ]
  },
  {
   "cell_type": "code",
   "execution_count": 105,
   "metadata": {},
   "outputs": [],
   "source": [
    "model.compile(optimizer='adam', loss='mse', metrics=['mae',tf.keras.metrics.RootMeanSquaredError()])"
   ]
  },
  {
   "cell_type": "code",
   "execution_count": 106,
   "metadata": {},
   "outputs": [
    {
     "name": "stdout",
     "output_type": "stream",
     "text": [
      "Epoch 1/20\n",
      "13/13 [==============================] - 1s 3ms/step - loss: 1668.8866 - mae: 32.7945 - root_mean_squared_error: 40.8520\n",
      "Epoch 2/20\n",
      "13/13 [==============================] - 0s 3ms/step - loss: 574.0359 - mae: 19.1792 - root_mean_squared_error: 23.9590\n",
      "Epoch 3/20\n",
      "13/13 [==============================] - 0s 3ms/step - loss: 294.1892 - mae: 13.7252 - root_mean_squared_error: 17.1519\n",
      "Epoch 4/20\n",
      "13/13 [==============================] - 0s 3ms/step - loss: 223.3809 - mae: 11.6768 - root_mean_squared_error: 14.9459\n",
      "Epoch 5/20\n",
      "13/13 [==============================] - 0s 5ms/step - loss: 189.3023 - mae: 10.3971 - root_mean_squared_error: 13.7587\n",
      "Epoch 6/20\n",
      "13/13 [==============================] - 0s 5ms/step - loss: 163.1991 - mae: 9.7083 - root_mean_squared_error: 12.7749\n",
      "Epoch 7/20\n",
      "13/13 [==============================] - 0s 3ms/step - loss: 144.7138 - mae: 9.1575 - root_mean_squared_error: 12.0297\n",
      "Epoch 8/20\n",
      "13/13 [==============================] - 0s 3ms/step - loss: 133.0711 - mae: 8.9193 - root_mean_squared_error: 11.5356\n",
      "Epoch 9/20\n",
      "13/13 [==============================] - 0s 3ms/step - loss: 120.3416 - mae: 8.3806 - root_mean_squared_error: 10.9700\n",
      "Epoch 10/20\n",
      "13/13 [==============================] - 0s 3ms/step - loss: 110.9755 - mae: 8.0787 - root_mean_squared_error: 10.5345\n",
      "Epoch 11/20\n",
      "13/13 [==============================] - 0s 3ms/step - loss: 103.1109 - mae: 7.8164 - root_mean_squared_error: 10.1544\n",
      "Epoch 12/20\n",
      "13/13 [==============================] - 0s 3ms/step - loss: 94.6927 - mae: 7.4081 - root_mean_squared_error: 9.7310\n",
      "Epoch 13/20\n",
      "13/13 [==============================] - 0s 2ms/step - loss: 87.6779 - mae: 7.1513 - root_mean_squared_error: 9.3637\n",
      "Epoch 14/20\n",
      "13/13 [==============================] - 0s 3ms/step - loss: 82.7542 - mae: 6.8362 - root_mean_squared_error: 9.0969\n",
      "Epoch 15/20\n",
      "13/13 [==============================] - 0s 3ms/step - loss: 77.6586 - mae: 6.6529 - root_mean_squared_error: 8.8124\n",
      "Epoch 16/20\n",
      "13/13 [==============================] - 0s 4ms/step - loss: 71.1205 - mae: 6.3618 - root_mean_squared_error: 8.4333\n",
      "Epoch 17/20\n",
      "13/13 [==============================] - 0s 3ms/step - loss: 65.2926 - mae: 6.1046 - root_mean_squared_error: 8.0804\n",
      "Epoch 18/20\n",
      "13/13 [==============================] - 0s 3ms/step - loss: 62.2444 - mae: 5.8632 - root_mean_squared_error: 7.8895\n",
      "Epoch 19/20\n",
      "13/13 [==============================] - 0s 3ms/step - loss: 59.3959 - mae: 5.7817 - root_mean_squared_error: 7.7069\n",
      "Epoch 20/20\n",
      "13/13 [==============================] - 0s 3ms/step - loss: 55.4818 - mae: 5.5620 - root_mean_squared_error: 7.4486\n",
      "Model Metric Names (Defined in model.compile):  ['loss', 'mae', 'root_mean_squared_error']\n"
     ]
    }
   ],
   "source": [
    "model.fit(x_train, y_train, epochs=20)\n",
    "print(\"Model Metric Names (Defined in model.compile): \",model.metrics_names)"
   ]
  },
  {
   "cell_type": "code",
   "execution_count": 107,
   "metadata": {},
   "outputs": [
    {
     "name": "stdout",
     "output_type": "stream",
     "text": [
      "Evaluate on test data\n",
      "4/4 [==============================] - 0s 3ms/step - loss: 67.0489 - mae: 6.1125 - root_mean_squared_error: 8.1883\n",
      "loss :  67.04886627197266\n",
      "mae :  6.112541198730469\n",
      "root_mean_squared_error :  8.188337326049805\n",
      "Generate predictions for 3 samples\n",
      "1/1 [==============================] - 0s 101ms/step\n",
      "Predicted value:  20.0544 |  Actual value:  22.4\n",
      "Predicted value:  19.359861 |  Actual value:  28.6\n",
      "Predicted value:  19.381304 |  Actual value:  19.5\n"
     ]
    }
   ],
   "source": [
    "print(\"Evaluate on test data\")\n",
    "results = model.evaluate(x_test, y_test)\n",
    "\n",
    "# Displaying the results\n",
    "for i in range(len(model.metrics_names)):\n",
    "    print(model.metrics_names[i], \": \", results[i])\n",
    "\n",
    "print(\"Generate predictions for 3 samples\")\n",
    "predictions = model.predict(x_test[:3]) \n",
    "\n",
    "# Displaying the predicted and actual values\n",
    "for i in range(3):\n",
    "    print(\"Predicted value: \", predictions[i][0], \"|\", \" Actual value: \", y_test[i])\n"
   ]
  }
 ],
 "metadata": {
  "kernelspec": {
   "display_name": "mess",
   "language": "python",
   "name": "python3"
  },
  "language_info": {
   "codemirror_mode": {
    "name": "ipython",
    "version": 3
   },
   "file_extension": ".py",
   "mimetype": "text/x-python",
   "name": "python",
   "nbconvert_exporter": "python",
   "pygments_lexer": "ipython3",
   "version": "3.9.5"
  }
 },
 "nbformat": 4,
 "nbformat_minor": 2
}
