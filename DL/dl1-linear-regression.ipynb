{
 "cells": [
  {
   "cell_type": "code",
   "execution_count": 15,
   "metadata": {},
   "outputs": [],
   "source": [
    "# Boston House Prediction Using Linear Regression and Deep Neural Network"
   ]
  },
  {
   "cell_type": "code",
   "execution_count": 102,
   "metadata": {},
   "outputs": [],
   "source": [
    "import tensorflow as tf"
   ]
  },
  {
   "cell_type": "code",
   "execution_count": 103,
   "metadata": {},
   "outputs": [],
   "source": [
    "(x_train , y_train) , (x_test , y_test) = tf.keras.datasets.boston_housing.load_data(test_split=0.2 , seed=42)"
   ]
  },
  {
   "cell_type": "code",
   "execution_count": 104,
   "metadata": {},
   "outputs": [],
   "source": [
    "model=tf.keras.models.Sequential([\n",
    "    tf.keras.layers.Dense(64, activation='relu', input_shape=(x_train.shape[1],)),\n",
    "    tf.keras.layers.Dense(1)\n",
    "])"
   ]
  },
  {
   "cell_type": "code",
   "execution_count": 105,
   "metadata": {},
   "outputs": [],
   "source": [
    "model.compile(optimizer='adam', loss='mse', metrics=['mae',tf.keras.metrics.RootMeanSquaredError()])"
   ]
  },
  {
   "cell_type": "code",
   "execution_count": 106,
   "metadata": {},
   "outputs": [
    {
     "name": "stdout",
     "output_type": "stream",
     "text": [
      "Epoch 1/20\n",
      "13/13 [==============================] - 1s 3ms/step - loss: 1668.8866 - mae: 32.7945 - root_mean_squared_error: 40.8520\n",
      "Epoch 2/20\n",
      "13/13 [==============================] - 0s 3ms/step - loss: 574.0359 - mae: 19.1792 - root_mean_squared_error: 23.9590\n",
      "Epoch 3/20\n",
      "13/13 [==============================] - 0s 3ms/step - loss: 294.1892 - mae: 13.7252 - root_mean_squared_error: 17.1519\n",
      "Epoch 4/20\n",
      "13/13 [==============================] - 0s 3ms/step - loss: 223.3809 - mae: 11.6768 - root_mean_squared_error: 14.9459\n",
      "Epoch 5/20\n",
      "13/13 [==============================] - 0s 5ms/step - loss: 189.3023 - mae: 10.3971 - root_mean_squared_error: 13.7587\n",
      "Epoch 6/20\n",
      "13/13 [==============================] - 0s 5ms/step - loss: 163.1991 - mae: 9.7083 - root_mean_squared_error: 12.7749\n",
      "Epoch 7/20\n",
      "13/13 [==============================] - 0s 3ms/step - loss: 144.7138 - mae: 9.1575 - root_mean_squared_error: 12.0297\n",
      "Epoch 8/20\n",
      "13/13 [==============================] - 0s 3ms/step - loss: 133.0711 - mae: 8.9193 - root_mean_squared_error: 11.5356\n",
      "Epoch 9/20\n",
      "13/13 [==============================] - 0s 3ms/step - loss: 120.3416 - mae: 8.3806 - root_mean_squared_error: 10.9700\n",
      "Epoch 10/20\n",
      "13/13 [==============================] - 0s 3ms/step - loss: 110.9755 - mae: 8.0787 - root_mean_squared_error: 10.5345\n",
      "Epoch 11/20\n",
      "13/13 [==============================] - 0s 3ms/step - loss: 103.1109 - mae: 7.8164 - root_mean_squared_error: 10.1544\n",
      "Epoch 12/20\n",
      "13/13 [==============================] - 0s 3ms/step - loss: 94.6927 - mae: 7.4081 - root_mean_squared_error: 9.7310\n",
      "Epoch 13/20\n",
      "13/13 [==============================] - 0s 2ms/step - loss: 87.6779 - mae: 7.1513 - root_mean_squared_error: 9.3637\n",
      "Epoch 14/20\n",
      "13/13 [==============================] - 0s 3ms/step - loss: 82.7542 - mae: 6.8362 - root_mean_squared_error: 9.0969\n",
      "Epoch 15/20\n",
      "13/13 [==============================] - 0s 3ms/step - loss: 77.6586 - mae: 6.6529 - root_mean_squared_error: 8.8124\n",
      "Epoch 16/20\n",
      "13/13 [==============================] - 0s 4ms/step - loss: 71.1205 - mae: 6.3618 - root_mean_squared_error: 8.4333\n",
      "Epoch 17/20\n",
      "13/13 [==============================] - 0s 3ms/step - loss: 65.2926 - mae: 6.1046 - root_mean_squared_error: 8.0804\n",
      "Epoch 18/20\n",
      "13/13 [==============================] - 0s 3ms/step - loss: 62.2444 - mae: 5.8632 - root_mean_squared_error: 7.8895\n",
      "Epoch 19/20\n",
      "13/13 [==============================] - 0s 3ms/step - loss: 59.3959 - mae: 5.7817 - root_mean_squared_error: 7.7069\n",
      "Epoch 20/20\n",
      "13/13 [==============================] - 0s 3ms/step - loss: 55.4818 - mae: 5.5620 - root_mean_squared_error: 7.4486\n",
      "Model Metric Names (Defined in model.compile):  ['loss', 'mae', 'root_mean_squared_error']\n"
     ]
    }
   ],
   "source": [
    "model.fit(x_train, y_train, epochs=20)\n",
    "print(\"Model Metric Names (Defined in model.compile): \",model.metrics_names)"
   ]
  },
  {
   "cell_type": "code",
   "execution_count": 109,
   "metadata": {},
   "outputs": [
    {
     "name": "stdout",
     "output_type": "stream",
     "text": [
      "Evaluate on test data\n",
      "4/4 [==============================] - 0s 3ms/step - loss: 67.0489 - mae: 6.1125 - root_mean_squared_error: 8.1883\n",
      "loss :  67.04886627197266\n",
      "mae :  6.112541198730469\n",
      "root_mean_squared_error :  8.188337326049805\n",
      "Generate predictions for 3 samples\n",
      "4/4 [==============================] - 0s 3ms/step\n",
      "Predicted value:  20.054396 |  Actual value:  22.4\n",
      "Predicted value:  19.359861 |  Actual value:  28.6\n",
      "Predicted value:  19.381304 |  Actual value:  19.5\n",
      "Predicted value:  17.249025 |  Actual value:  24.8\n",
      "Predicted value:  15.17581 |  Actual value:  24.5\n",
      "Predicted value:  17.476347 |  Actual value:  21.4\n",
      "Predicted value:  21.441603 |  Actual value:  33.1\n",
      "Predicted value:  27.807775 |  Actual value:  22.9\n",
      "Predicted value:  29.6947 |  Actual value:  20.7\n",
      "Predicted value:  31.91337 |  Actual value:  24.1\n",
      "Predicted value:  22.63716 |  Actual value:  50.0\n",
      "Predicted value:  18.795382 |  Actual value:  24.7\n",
      "Predicted value:  27.140203 |  Actual value:  28.7\n",
      "Predicted value:  18.84337 |  Actual value:  7.2\n",
      "Predicted value:  19.738749 |  Actual value:  37.0\n",
      "Predicted value:  25.432535 |  Actual value:  20.3\n",
      "Predicted value:  36.04656 |  Actual value:  30.1\n",
      "Predicted value:  23.785028 |  Actual value:  19.5\n",
      "Predicted value:  25.146963 |  Actual value:  23.4\n",
      "Predicted value:  19.713789 |  Actual value:  11.5\n",
      "Predicted value:  30.391798 |  Actual value:  21.6\n",
      "Predicted value:  19.7284 |  Actual value:  14.9\n",
      "Predicted value:  19.737093 |  Actual value:  15.2\n",
      "Predicted value:  25.9111 |  Actual value:  19.4\n",
      "Predicted value:  8.369204 |  Actual value:  8.4\n",
      "Predicted value:  26.21398 |  Actual value:  28.0\n",
      "Predicted value:  17.325125 |  Actual value:  22.6\n",
      "Predicted value:  17.345764 |  Actual value:  13.5\n",
      "Predicted value:  12.034315 |  Actual value:  14.5\n",
      "Predicted value:  33.797382 |  Actual value:  31.0\n",
      "Predicted value:  7.8132663 |  Actual value:  10.9\n",
      "Predicted value:  19.893366 |  Actual value:  21.9\n",
      "Predicted value:  28.24346 |  Actual value:  22.0\n",
      "Predicted value:  26.059977 |  Actual value:  19.0\n",
      "Predicted value:  19.372225 |  Actual value:  21.4\n",
      "Predicted value:  26.168245 |  Actual value:  25.0\n",
      "Predicted value:  19.506132 |  Actual value:  17.5\n",
      "Predicted value:  33.92208 |  Actual value:  36.5\n",
      "Predicted value:  28.606249 |  Actual value:  20.1\n",
      "Predicted value:  23.4565 |  Actual value:  20.4\n",
      "Predicted value:  25.252783 |  Actual value:  16.2\n",
      "Predicted value:  31.487741 |  Actual value:  23.6\n",
      "Predicted value:  13.455275 |  Actual value:  7.4\n",
      "Predicted value:  30.422884 |  Actual value:  35.2\n",
      "Predicted value:  22.69898 |  Actual value:  50.0\n",
      "Predicted value:  12.396433 |  Actual value:  19.3\n",
      "Predicted value:  19.459002 |  Actual value:  21.2\n",
      "Predicted value:  15.140135 |  Actual value:  15.6\n",
      "Predicted value:  37.450733 |  Actual value:  33.4\n",
      "Predicted value:  19.30227 |  Actual value:  19.1\n",
      "Predicted value:  21.405127 |  Actual value:  21.0\n",
      "Predicted value:  19.812037 |  Actual value:  23.7\n",
      "Predicted value:  24.880247 |  Actual value:  18.9\n",
      "Predicted value:  20.674974 |  Actual value:  16.8\n",
      "Predicted value:  27.242174 |  Actual value:  19.7\n",
      "Predicted value:  20.53163 |  Actual value:  17.7\n",
      "Predicted value:  25.933558 |  Actual value:  22.6\n",
      "Predicted value:  11.964483 |  Actual value:  11.8\n",
      "Predicted value:  24.048628 |  Actual value:  34.9\n",
      "Predicted value:  26.46892 |  Actual value:  20.6\n",
      "Predicted value:  21.482676 |  Actual value:  20.2\n",
      "Predicted value:  23.748018 |  Actual value:  32.0\n",
      "Predicted value:  18.801119 |  Actual value:  22.3\n",
      "Predicted value:  24.431383 |  Actual value:  23.3\n",
      "Predicted value:  27.437483 |  Actual value:  14.4\n",
      "Predicted value:  24.215006 |  Actual value:  31.2\n",
      "Predicted value:  22.200407 |  Actual value:  24.0\n",
      "Predicted value:  17.988935 |  Actual value:  29.6\n",
      "Predicted value:  26.06664 |  Actual value:  19.6\n",
      "Predicted value:  26.971388 |  Actual value:  21.6\n",
      "Predicted value:  19.352362 |  Actual value:  20.0\n",
      "Predicted value:  20.334616 |  Actual value:  27.0\n",
      "Predicted value:  31.53847 |  Actual value:  33.2\n",
      "Predicted value:  20.065107 |  Actual value:  15.4\n",
      "Predicted value:  22.468695 |  Actual value:  30.5\n",
      "Predicted value:  15.57789 |  Actual value:  7.2\n",
      "Predicted value:  16.441755 |  Actual value:  23.9\n",
      "Predicted value:  15.540304 |  Actual value:  16.3\n",
      "Predicted value:  28.712595 |  Actual value:  23.9\n",
      "Predicted value:  34.26759 |  Actual value:  50.0\n",
      "Predicted value:  28.176683 |  Actual value:  22.8\n",
      "Predicted value:  16.742605 |  Actual value:  15.4\n",
      "Predicted value:  20.315176 |  Actual value:  19.2\n",
      "Predicted value:  19.596743 |  Actual value:  19.6\n",
      "Predicted value:  20.078081 |  Actual value:  22.6\n",
      "Predicted value:  27.0842 |  Actual value:  33.2\n",
      "Predicted value:  21.185701 |  Actual value:  50.0\n",
      "Predicted value:  26.847166 |  Actual value:  22.2\n",
      "Predicted value:  16.668478 |  Actual value:  14.9\n",
      "Predicted value:  13.155426 |  Actual value:  19.8\n",
      "Predicted value:  3.7163198 |  Actual value:  23.7\n",
      "Predicted value:  11.720528 |  Actual value:  19.0\n",
      "Predicted value:  28.36012 |  Actual value:  20.3\n",
      "Predicted value:  27.607176 |  Actual value:  11.9\n",
      "Predicted value:  23.9666 |  Actual value:  13.6\n",
      "Predicted value:  21.49573 |  Actual value:  29.8\n",
      "Predicted value:  13.322939 |  Actual value:  21.7\n",
      "Predicted value:  22.470243 |  Actual value:  19.5\n",
      "Predicted value:  26.501143 |  Actual value:  21.1\n",
      "Predicted value:  34.796806 |  Actual value:  24.5\n",
      "Predicted value:  13.460188 |  Actual value:  13.4\n",
      "Predicted value:  15.240107 |  Actual value:  18.6\n"
     ]
    }
   ],
   "source": [
    "print(\"Evaluate on test data\")\n",
    "results = model.evaluate(x_test, y_test)\n",
    "\n",
    "# Displaying the results\n",
    "for i in range(len(model.metrics_names)):\n",
    "    print(model.metrics_names[i], \": \", results[i])\n",
    "\n",
    "print(\"Generate predictions for all samples\")\n",
    "predictions = model.predict(x_test[:len(x_test)]) \n",
    "\n",
    "# Displaying the predicted and actual values\n",
    "for i in range(len(predictions)):\n",
    "    print(\"Predicted value: \", predictions[i][0], \"|\", \" Actual value: \", y_test[i])\n"
   ]
  }
 ],
 "metadata": {
  "kernelspec": {
   "display_name": "mess",
   "language": "python",
   "name": "python3"
  },
  "language_info": {
   "codemirror_mode": {
    "name": "ipython",
    "version": 3
   },
   "file_extension": ".py",
   "mimetype": "text/x-python",
   "name": "python",
   "nbconvert_exporter": "python",
   "pygments_lexer": "ipython3",
   "version": "3.9.5"
  }
 },
 "nbformat": 4,
 "nbformat_minor": 2
}
